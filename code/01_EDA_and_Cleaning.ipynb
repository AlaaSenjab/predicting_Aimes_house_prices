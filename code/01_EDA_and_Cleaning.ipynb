{
 "cells": [
  {
   "cell_type": "markdown",
   "metadata": {},
   "source": [
    "# Aimes Iowa Housing Price Prediction"
   ]
  },
  {
   "cell_type": "markdown",
   "metadata": {},
   "source": [
    "## Introduction:"
   ]
  },
  {
   "cell_type": "markdown",
   "metadata": {},
   "source": [
    "This notebook analysis Aimes House sale prices. The data is for residential properties sale prices from 2006 to 2010 in Aimes, Iowa. The data contains more than 80 features that evaluates houses sale prices for 2051 houses.  "
   ]
  },
  {
   "cell_type": "markdown",
   "metadata": {},
   "source": [
    "### Problem Statement:"
   ]
  },
  {
   "cell_type": "markdown",
   "metadata": {},
   "source": [
    "The value of a house is often estimated by several personals who come to check the size, quality, condition, features, location of the house. While this method doesn't give accurate scores, it also makes it hard for home buyers and sellers to know the true value of the property.\n",
    "\n",
    "One of the websites that lead buying/selling houses in the U.S. is Zillow. It can estimate the prices for houses that are on and off market with very high accuracy. Currently, Zestimate, our house predication platform, can estimate house prices for on-market houses with %1.5 maiden error, and %7.5 for off-market houses. The better lower these error scores are, the better our house price predictions are, which yields into more people using our platform and more money for us."
   ]
  },
  {
   "cell_type": "markdown",
   "metadata": {},
   "source": [
    "Lets begin, shall we?"
   ]
  },
  {
   "cell_type": "markdown",
   "metadata": {},
   "source": [
    "## Importing Libraries  "
   ]
  },
  {
   "cell_type": "code",
   "execution_count": 1,
   "metadata": {},
   "outputs": [],
   "source": [
    "import pandas as pd\n",
    "import numpy as np\n",
    "import seaborn as sns\n",
    "import matplotlib.pyplot as plt\n",
    "pd.options.display.max_rows = 100 #shows 100 rows max"
   ]
  },
  {
   "cell_type": "markdown",
   "metadata": {},
   "source": [
    "## Reading Files"
   ]
  },
  {
   "cell_type": "code",
   "execution_count": 2,
   "metadata": {},
   "outputs": [],
   "source": [
    "#reading the csv\n",
    "train = pd.read_csv('../datasets/train.csv')\n",
    "test = pd.read_csv('../datasets/test.csv')"
   ]
  },
  {
   "cell_type": "code",
   "execution_count": 3,
   "metadata": {},
   "outputs": [
    {
     "data": {
      "text/plain": [
       "(2051, 81)"
      ]
     },
     "execution_count": 3,
     "metadata": {},
     "output_type": "execute_result"
    }
   ],
   "source": [
    "#lets see what we have\n",
    "train.shape"
   ]
  },
  {
   "cell_type": "code",
   "execution_count": 4,
   "metadata": {
    "scrolled": true
   },
   "outputs": [
    {
     "data": {
      "text/html": [
       "<div>\n",
       "<style scoped>\n",
       "    .dataframe tbody tr th:only-of-type {\n",
       "        vertical-align: middle;\n",
       "    }\n",
       "\n",
       "    .dataframe tbody tr th {\n",
       "        vertical-align: top;\n",
       "    }\n",
       "\n",
       "    .dataframe thead th {\n",
       "        text-align: right;\n",
       "    }\n",
       "</style>\n",
       "<table border=\"1\" class=\"dataframe\">\n",
       "  <thead>\n",
       "    <tr style=\"text-align: right;\">\n",
       "      <th></th>\n",
       "      <th>Id</th>\n",
       "      <th>PID</th>\n",
       "      <th>MS SubClass</th>\n",
       "      <th>MS Zoning</th>\n",
       "      <th>Lot Frontage</th>\n",
       "      <th>Lot Area</th>\n",
       "      <th>Street</th>\n",
       "      <th>Alley</th>\n",
       "      <th>Lot Shape</th>\n",
       "      <th>Land Contour</th>\n",
       "      <th>...</th>\n",
       "      <th>3Ssn Porch</th>\n",
       "      <th>Screen Porch</th>\n",
       "      <th>Pool Area</th>\n",
       "      <th>Pool QC</th>\n",
       "      <th>Fence</th>\n",
       "      <th>Misc Feature</th>\n",
       "      <th>Misc Val</th>\n",
       "      <th>Mo Sold</th>\n",
       "      <th>Yr Sold</th>\n",
       "      <th>Sale Type</th>\n",
       "    </tr>\n",
       "  </thead>\n",
       "  <tbody>\n",
       "    <tr>\n",
       "      <td>0</td>\n",
       "      <td>2658</td>\n",
       "      <td>902301120</td>\n",
       "      <td>190</td>\n",
       "      <td>RM</td>\n",
       "      <td>69.0</td>\n",
       "      <td>9142</td>\n",
       "      <td>Pave</td>\n",
       "      <td>Grvl</td>\n",
       "      <td>Reg</td>\n",
       "      <td>Lvl</td>\n",
       "      <td>...</td>\n",
       "      <td>0</td>\n",
       "      <td>0</td>\n",
       "      <td>0</td>\n",
       "      <td>NaN</td>\n",
       "      <td>NaN</td>\n",
       "      <td>NaN</td>\n",
       "      <td>0</td>\n",
       "      <td>4</td>\n",
       "      <td>2006</td>\n",
       "      <td>WD</td>\n",
       "    </tr>\n",
       "    <tr>\n",
       "      <td>1</td>\n",
       "      <td>2718</td>\n",
       "      <td>905108090</td>\n",
       "      <td>90</td>\n",
       "      <td>RL</td>\n",
       "      <td>NaN</td>\n",
       "      <td>9662</td>\n",
       "      <td>Pave</td>\n",
       "      <td>NaN</td>\n",
       "      <td>IR1</td>\n",
       "      <td>Lvl</td>\n",
       "      <td>...</td>\n",
       "      <td>0</td>\n",
       "      <td>0</td>\n",
       "      <td>0</td>\n",
       "      <td>NaN</td>\n",
       "      <td>NaN</td>\n",
       "      <td>NaN</td>\n",
       "      <td>0</td>\n",
       "      <td>8</td>\n",
       "      <td>2006</td>\n",
       "      <td>WD</td>\n",
       "    </tr>\n",
       "    <tr>\n",
       "      <td>2</td>\n",
       "      <td>2414</td>\n",
       "      <td>528218130</td>\n",
       "      <td>60</td>\n",
       "      <td>RL</td>\n",
       "      <td>58.0</td>\n",
       "      <td>17104</td>\n",
       "      <td>Pave</td>\n",
       "      <td>NaN</td>\n",
       "      <td>IR1</td>\n",
       "      <td>Lvl</td>\n",
       "      <td>...</td>\n",
       "      <td>0</td>\n",
       "      <td>0</td>\n",
       "      <td>0</td>\n",
       "      <td>NaN</td>\n",
       "      <td>NaN</td>\n",
       "      <td>NaN</td>\n",
       "      <td>0</td>\n",
       "      <td>9</td>\n",
       "      <td>2006</td>\n",
       "      <td>New</td>\n",
       "    </tr>\n",
       "    <tr>\n",
       "      <td>3</td>\n",
       "      <td>1989</td>\n",
       "      <td>902207150</td>\n",
       "      <td>30</td>\n",
       "      <td>RM</td>\n",
       "      <td>60.0</td>\n",
       "      <td>8520</td>\n",
       "      <td>Pave</td>\n",
       "      <td>NaN</td>\n",
       "      <td>Reg</td>\n",
       "      <td>Lvl</td>\n",
       "      <td>...</td>\n",
       "      <td>0</td>\n",
       "      <td>0</td>\n",
       "      <td>0</td>\n",
       "      <td>NaN</td>\n",
       "      <td>NaN</td>\n",
       "      <td>NaN</td>\n",
       "      <td>0</td>\n",
       "      <td>7</td>\n",
       "      <td>2007</td>\n",
       "      <td>WD</td>\n",
       "    </tr>\n",
       "    <tr>\n",
       "      <td>4</td>\n",
       "      <td>625</td>\n",
       "      <td>535105100</td>\n",
       "      <td>20</td>\n",
       "      <td>RL</td>\n",
       "      <td>NaN</td>\n",
       "      <td>9500</td>\n",
       "      <td>Pave</td>\n",
       "      <td>NaN</td>\n",
       "      <td>IR1</td>\n",
       "      <td>Lvl</td>\n",
       "      <td>...</td>\n",
       "      <td>0</td>\n",
       "      <td>185</td>\n",
       "      <td>0</td>\n",
       "      <td>NaN</td>\n",
       "      <td>NaN</td>\n",
       "      <td>NaN</td>\n",
       "      <td>0</td>\n",
       "      <td>7</td>\n",
       "      <td>2009</td>\n",
       "      <td>WD</td>\n",
       "    </tr>\n",
       "  </tbody>\n",
       "</table>\n",
       "<p>5 rows × 80 columns</p>\n",
       "</div>"
      ],
      "text/plain": [
       "     Id        PID  MS SubClass MS Zoning  Lot Frontage  Lot Area Street  \\\n",
       "0  2658  902301120          190        RM          69.0      9142   Pave   \n",
       "1  2718  905108090           90        RL           NaN      9662   Pave   \n",
       "2  2414  528218130           60        RL          58.0     17104   Pave   \n",
       "3  1989  902207150           30        RM          60.0      8520   Pave   \n",
       "4   625  535105100           20        RL           NaN      9500   Pave   \n",
       "\n",
       "  Alley Lot Shape Land Contour  ... 3Ssn Porch Screen Porch Pool Area Pool QC  \\\n",
       "0  Grvl       Reg          Lvl  ...          0            0         0     NaN   \n",
       "1   NaN       IR1          Lvl  ...          0            0         0     NaN   \n",
       "2   NaN       IR1          Lvl  ...          0            0         0     NaN   \n",
       "3   NaN       Reg          Lvl  ...          0            0         0     NaN   \n",
       "4   NaN       IR1          Lvl  ...          0          185         0     NaN   \n",
       "\n",
       "  Fence Misc Feature Misc Val Mo Sold  Yr Sold  Sale Type  \n",
       "0   NaN          NaN        0       4     2006        WD   \n",
       "1   NaN          NaN        0       8     2006        WD   \n",
       "2   NaN          NaN        0       9     2006        New  \n",
       "3   NaN          NaN        0       7     2007        WD   \n",
       "4   NaN          NaN        0       7     2009        WD   \n",
       "\n",
       "[5 rows x 80 columns]"
      ]
     },
     "execution_count": 4,
     "metadata": {},
     "output_type": "execute_result"
    }
   ],
   "source": [
    "test.head()"
   ]
  },
  {
   "cell_type": "code",
   "execution_count": 5,
   "metadata": {},
   "outputs": [
    {
     "data": {
      "text/plain": [
       "RL         1598\n",
       "RM          316\n",
       "FV          101\n",
       "C (all)      19\n",
       "RH           14\n",
       "A (agr)       2\n",
       "I (all)       1\n",
       "Name: MS Zoning, dtype: int64"
      ]
     },
     "execution_count": 5,
     "metadata": {},
     "output_type": "execute_result"
    }
   ],
   "source": [
    "train['MS Zoning'].value_counts()"
   ]
  },
  {
   "cell_type": "code",
   "execution_count": 6,
   "metadata": {},
   "outputs": [
    {
     "name": "stdout",
     "output_type": "stream",
     "text": [
      "SalePrice\n"
     ]
    }
   ],
   "source": [
    "#checks if column names are the same and also checks for any extra columns.\n",
    "for i in train.columns:\n",
    "    if i not in test.columns: print(i)\n",
    "    "
   ]
  },
  {
   "cell_type": "markdown",
   "metadata": {},
   "source": [
    "From the shape of test and train data, and also the above for loop, we can see that all columns match between them and SalePrice only exist in the train data\n",
    "\n",
    "I will combine both of the dataFrames to clean them at the same time, then i will split them."
   ]
  },
  {
   "cell_type": "code",
   "execution_count": 7,
   "metadata": {},
   "outputs": [],
   "source": [
    "# storing the number of columns in each dataFrame to split them later\n",
    "train_rows = train.shape[0] \n",
    "test_rows = test.shape[0]\n",
    "\n",
    "#concating both dataFrames and reseting the index\n",
    "data = pd.concat((train, test), sort=False).reset_index(drop=True)\n",
    "\n",
    "#dropping the SalePrice column. i will clean the SalePrice on the train df after splitting it\n",
    "data.drop(['SalePrice'], axis=1, inplace=True)"
   ]
  },
  {
   "cell_type": "code",
   "execution_count": 8,
   "metadata": {},
   "outputs": [
    {
     "data": {
      "text/plain": [
       "(2930, 80)"
      ]
     },
     "execution_count": 8,
     "metadata": {},
     "output_type": "execute_result"
    }
   ],
   "source": [
    "#they are concatenated\n",
    "data.shape"
   ]
  },
  {
   "cell_type": "code",
   "execution_count": 9,
   "metadata": {},
   "outputs": [
    {
     "data": {
      "text/html": [
       "<div>\n",
       "<style scoped>\n",
       "    .dataframe tbody tr th:only-of-type {\n",
       "        vertical-align: middle;\n",
       "    }\n",
       "\n",
       "    .dataframe tbody tr th {\n",
       "        vertical-align: top;\n",
       "    }\n",
       "\n",
       "    .dataframe thead th {\n",
       "        text-align: right;\n",
       "    }\n",
       "</style>\n",
       "<table border=\"1\" class=\"dataframe\">\n",
       "  <thead>\n",
       "    <tr style=\"text-align: right;\">\n",
       "      <th></th>\n",
       "      <th>Id</th>\n",
       "      <th>PID</th>\n",
       "      <th>MS SubClass</th>\n",
       "      <th>MS Zoning</th>\n",
       "      <th>Lot Frontage</th>\n",
       "      <th>Lot Area</th>\n",
       "      <th>Street</th>\n",
       "      <th>Alley</th>\n",
       "      <th>Lot Shape</th>\n",
       "      <th>Land Contour</th>\n",
       "      <th>...</th>\n",
       "      <th>3Ssn Porch</th>\n",
       "      <th>Screen Porch</th>\n",
       "      <th>Pool Area</th>\n",
       "      <th>Pool QC</th>\n",
       "      <th>Fence</th>\n",
       "      <th>Misc Feature</th>\n",
       "      <th>Misc Val</th>\n",
       "      <th>Mo Sold</th>\n",
       "      <th>Yr Sold</th>\n",
       "      <th>Sale Type</th>\n",
       "    </tr>\n",
       "  </thead>\n",
       "  <tbody>\n",
       "    <tr>\n",
       "      <td>2925</td>\n",
       "      <td>1662</td>\n",
       "      <td>527377110</td>\n",
       "      <td>60</td>\n",
       "      <td>RL</td>\n",
       "      <td>80.0</td>\n",
       "      <td>8000</td>\n",
       "      <td>Pave</td>\n",
       "      <td>NaN</td>\n",
       "      <td>Reg</td>\n",
       "      <td>Lvl</td>\n",
       "      <td>...</td>\n",
       "      <td>0</td>\n",
       "      <td>0</td>\n",
       "      <td>0</td>\n",
       "      <td>NaN</td>\n",
       "      <td>NaN</td>\n",
       "      <td>NaN</td>\n",
       "      <td>0</td>\n",
       "      <td>11</td>\n",
       "      <td>2007</td>\n",
       "      <td>WD</td>\n",
       "    </tr>\n",
       "    <tr>\n",
       "      <td>2926</td>\n",
       "      <td>1234</td>\n",
       "      <td>535126140</td>\n",
       "      <td>60</td>\n",
       "      <td>RL</td>\n",
       "      <td>90.0</td>\n",
       "      <td>14670</td>\n",
       "      <td>Pave</td>\n",
       "      <td>NaN</td>\n",
       "      <td>Reg</td>\n",
       "      <td>Lvl</td>\n",
       "      <td>...</td>\n",
       "      <td>0</td>\n",
       "      <td>0</td>\n",
       "      <td>0</td>\n",
       "      <td>NaN</td>\n",
       "      <td>MnPrv</td>\n",
       "      <td>NaN</td>\n",
       "      <td>0</td>\n",
       "      <td>8</td>\n",
       "      <td>2008</td>\n",
       "      <td>WD</td>\n",
       "    </tr>\n",
       "    <tr>\n",
       "      <td>2927</td>\n",
       "      <td>1373</td>\n",
       "      <td>904100040</td>\n",
       "      <td>20</td>\n",
       "      <td>RL</td>\n",
       "      <td>55.0</td>\n",
       "      <td>8250</td>\n",
       "      <td>Pave</td>\n",
       "      <td>NaN</td>\n",
       "      <td>Reg</td>\n",
       "      <td>Lvl</td>\n",
       "      <td>...</td>\n",
       "      <td>0</td>\n",
       "      <td>0</td>\n",
       "      <td>0</td>\n",
       "      <td>NaN</td>\n",
       "      <td>NaN</td>\n",
       "      <td>NaN</td>\n",
       "      <td>0</td>\n",
       "      <td>8</td>\n",
       "      <td>2008</td>\n",
       "      <td>WD</td>\n",
       "    </tr>\n",
       "    <tr>\n",
       "      <td>2928</td>\n",
       "      <td>1672</td>\n",
       "      <td>527425140</td>\n",
       "      <td>20</td>\n",
       "      <td>RL</td>\n",
       "      <td>60.0</td>\n",
       "      <td>9000</td>\n",
       "      <td>Pave</td>\n",
       "      <td>NaN</td>\n",
       "      <td>Reg</td>\n",
       "      <td>Lvl</td>\n",
       "      <td>...</td>\n",
       "      <td>0</td>\n",
       "      <td>0</td>\n",
       "      <td>0</td>\n",
       "      <td>NaN</td>\n",
       "      <td>GdWo</td>\n",
       "      <td>NaN</td>\n",
       "      <td>0</td>\n",
       "      <td>5</td>\n",
       "      <td>2007</td>\n",
       "      <td>WD</td>\n",
       "    </tr>\n",
       "    <tr>\n",
       "      <td>2929</td>\n",
       "      <td>1939</td>\n",
       "      <td>535327160</td>\n",
       "      <td>20</td>\n",
       "      <td>RL</td>\n",
       "      <td>70.0</td>\n",
       "      <td>8400</td>\n",
       "      <td>Pave</td>\n",
       "      <td>NaN</td>\n",
       "      <td>Reg</td>\n",
       "      <td>Lvl</td>\n",
       "      <td>...</td>\n",
       "      <td>0</td>\n",
       "      <td>0</td>\n",
       "      <td>0</td>\n",
       "      <td>NaN</td>\n",
       "      <td>GdWo</td>\n",
       "      <td>NaN</td>\n",
       "      <td>0</td>\n",
       "      <td>3</td>\n",
       "      <td>2007</td>\n",
       "      <td>WD</td>\n",
       "    </tr>\n",
       "  </tbody>\n",
       "</table>\n",
       "<p>5 rows × 80 columns</p>\n",
       "</div>"
      ],
      "text/plain": [
       "        Id        PID  MS SubClass MS Zoning  Lot Frontage  Lot Area Street  \\\n",
       "2925  1662  527377110           60        RL          80.0      8000   Pave   \n",
       "2926  1234  535126140           60        RL          90.0     14670   Pave   \n",
       "2927  1373  904100040           20        RL          55.0      8250   Pave   \n",
       "2928  1672  527425140           20        RL          60.0      9000   Pave   \n",
       "2929  1939  535327160           20        RL          70.0      8400   Pave   \n",
       "\n",
       "     Alley Lot Shape Land Contour  ... 3Ssn Porch Screen Porch Pool Area  \\\n",
       "2925   NaN       Reg          Lvl  ...          0            0         0   \n",
       "2926   NaN       Reg          Lvl  ...          0            0         0   \n",
       "2927   NaN       Reg          Lvl  ...          0            0         0   \n",
       "2928   NaN       Reg          Lvl  ...          0            0         0   \n",
       "2929   NaN       Reg          Lvl  ...          0            0         0   \n",
       "\n",
       "     Pool QC  Fence Misc Feature Misc Val Mo Sold  Yr Sold  Sale Type  \n",
       "2925     NaN    NaN          NaN        0      11     2007        WD   \n",
       "2926     NaN  MnPrv          NaN        0       8     2008        WD   \n",
       "2927     NaN    NaN          NaN        0       8     2008        WD   \n",
       "2928     NaN   GdWo          NaN        0       5     2007        WD   \n",
       "2929     NaN   GdWo          NaN        0       3     2007        WD   \n",
       "\n",
       "[5 rows x 80 columns]"
      ]
     },
     "execution_count": 9,
     "metadata": {},
     "output_type": "execute_result"
    }
   ],
   "source": [
    "data.tail()"
   ]
  },
  {
   "cell_type": "code",
   "execution_count": 10,
   "metadata": {
    "scrolled": true
   },
   "outputs": [
    {
     "data": {
      "text/plain": [
       "Id                   int64\n",
       "PID                  int64\n",
       "MS SubClass          int64\n",
       "MS Zoning           object\n",
       "Lot Frontage       float64\n",
       "Lot Area             int64\n",
       "Street              object\n",
       "Alley               object\n",
       "Lot Shape           object\n",
       "Land Contour        object\n",
       "Utilities           object\n",
       "Lot Config          object\n",
       "Land Slope          object\n",
       "Neighborhood        object\n",
       "Condition 1         object\n",
       "Condition 2         object\n",
       "Bldg Type           object\n",
       "House Style         object\n",
       "Overall Qual         int64\n",
       "Overall Cond         int64\n",
       "Year Built           int64\n",
       "Year Remod/Add       int64\n",
       "Roof Style          object\n",
       "Roof Matl           object\n",
       "Exterior 1st        object\n",
       "Exterior 2nd        object\n",
       "Mas Vnr Type        object\n",
       "Mas Vnr Area       float64\n",
       "Exter Qual          object\n",
       "Exter Cond          object\n",
       "Foundation          object\n",
       "Bsmt Qual           object\n",
       "Bsmt Cond           object\n",
       "Bsmt Exposure       object\n",
       "BsmtFin Type 1      object\n",
       "BsmtFin SF 1       float64\n",
       "BsmtFin Type 2      object\n",
       "BsmtFin SF 2       float64\n",
       "Bsmt Unf SF        float64\n",
       "Total Bsmt SF      float64\n",
       "Heating             object\n",
       "Heating QC          object\n",
       "Central Air         object\n",
       "Electrical          object\n",
       "1st Flr SF           int64\n",
       "2nd Flr SF           int64\n",
       "Low Qual Fin SF      int64\n",
       "Gr Liv Area          int64\n",
       "Bsmt Full Bath     float64\n",
       "Bsmt Half Bath     float64\n",
       "Full Bath            int64\n",
       "Half Bath            int64\n",
       "Bedroom AbvGr        int64\n",
       "Kitchen AbvGr        int64\n",
       "Kitchen Qual        object\n",
       "TotRms AbvGrd        int64\n",
       "Functional          object\n",
       "Fireplaces           int64\n",
       "Fireplace Qu        object\n",
       "Garage Type         object\n",
       "Garage Yr Blt      float64\n",
       "Garage Finish       object\n",
       "Garage Cars        float64\n",
       "Garage Area        float64\n",
       "Garage Qual         object\n",
       "Garage Cond         object\n",
       "Paved Drive         object\n",
       "Wood Deck SF         int64\n",
       "Open Porch SF        int64\n",
       "Enclosed Porch       int64\n",
       "3Ssn Porch           int64\n",
       "Screen Porch         int64\n",
       "Pool Area            int64\n",
       "Pool QC             object\n",
       "Fence               object\n",
       "Misc Feature        object\n",
       "Misc Val             int64\n",
       "Mo Sold              int64\n",
       "Yr Sold              int64\n",
       "Sale Type           object\n",
       "dtype: object"
      ]
     },
     "execution_count": 10,
     "metadata": {},
     "output_type": "execute_result"
    }
   ],
   "source": [
    "#checking the type of each column\n",
    "data.dtypes"
   ]
  },
  {
   "cell_type": "markdown",
   "metadata": {},
   "source": [
    "## EDA"
   ]
  },
  {
   "cell_type": "code",
   "execution_count": 11,
   "metadata": {},
   "outputs": [
    {
     "data": {
      "text/plain": [
       "Pool QC           2917\n",
       "Misc Feature      2824\n",
       "Alley             2732\n",
       "Fence             2358\n",
       "Fireplace Qu      1422\n",
       "Lot Frontage       490\n",
       "Garage Yr Blt      159\n",
       "Garage Qual        159\n",
       "Garage Cond        159\n",
       "Garage Finish      159\n",
       "Garage Type        157\n",
       "Bsmt Exposure       83\n",
       "BsmtFin Type 2      81\n",
       "BsmtFin Type 1      80\n",
       "Bsmt Cond           80\n",
       "Bsmt Qual           80\n",
       "Mas Vnr Type        23\n",
       "Mas Vnr Area        23\n",
       "Bsmt Full Bath       2\n",
       "Bsmt Half Bath       2\n",
       "dtype: int64"
      ]
     },
     "execution_count": 11,
     "metadata": {},
     "output_type": "execute_result"
    }
   ],
   "source": [
    "#looking for the number of missing data more closely\n",
    "data.isnull().sum().sort_values(ascending = False).head(20)"
   ]
  },
  {
   "cell_type": "code",
   "execution_count": 12,
   "metadata": {
    "scrolled": true
   },
   "outputs": [
    {
     "data": {
      "text/plain": [
       "Pool QC            0.995563\n",
       "Misc Feature       0.963823\n",
       "Alley              0.932423\n",
       "Fence              0.804778\n",
       "Fireplace Qu       0.485324\n",
       "Lot Frontage       0.167235\n",
       "Garage Yr Blt      0.054266\n",
       "Garage Qual        0.054266\n",
       "Garage Cond        0.054266\n",
       "Garage Finish      0.054266\n",
       "Garage Type        0.053584\n",
       "Bsmt Exposure      0.028328\n",
       "BsmtFin Type 2     0.027645\n",
       "BsmtFin Type 1     0.027304\n",
       "Bsmt Cond          0.027304\n",
       "Bsmt Qual          0.027304\n",
       "Mas Vnr Type       0.007850\n",
       "Mas Vnr Area       0.007850\n",
       "Bsmt Full Bath     0.000683\n",
       "Bsmt Half Bath     0.000683\n",
       "Bsmt Unf SF        0.000341\n",
       "BsmtFin SF 2       0.000341\n",
       "Electrical         0.000341\n",
       "BsmtFin SF 1       0.000341\n",
       "Total Bsmt SF      0.000341\n",
       "Garage Area        0.000341\n",
       "Garage Cars        0.000341\n",
       "Exter Qual         0.000000\n",
       "Condition 1        0.000000\n",
       "PID                0.000000\n",
       "MS SubClass        0.000000\n",
       "MS Zoning          0.000000\n",
       "Lot Area           0.000000\n",
       "Street             0.000000\n",
       "Lot Shape          0.000000\n",
       "Land Contour       0.000000\n",
       "Exterior 2nd       0.000000\n",
       "Exterior 1st       0.000000\n",
       "Roof Matl          0.000000\n",
       "Roof Style         0.000000\n",
       "Utilities          0.000000\n",
       "Year Remod/Add     0.000000\n",
       "Year Built         0.000000\n",
       "Overall Cond       0.000000\n",
       "Overall Qual       0.000000\n",
       "Lot Config         0.000000\n",
       "Land Slope         0.000000\n",
       "House Style        0.000000\n",
       "Bldg Type          0.000000\n",
       "Condition 2        0.000000\n",
       "Neighborhood       0.000000\n",
       "Sale Type          0.000000\n",
       "Exter Cond         0.000000\n",
       "Foundation         0.000000\n",
       "Mo Sold            0.000000\n",
       "Misc Val           0.000000\n",
       "Pool Area          0.000000\n",
       "Screen Porch       0.000000\n",
       "3Ssn Porch         0.000000\n",
       "Enclosed Porch     0.000000\n",
       "Open Porch SF      0.000000\n",
       "Wood Deck SF       0.000000\n",
       "Paved Drive        0.000000\n",
       "Fireplaces         0.000000\n",
       "Functional         0.000000\n",
       "TotRms AbvGrd      0.000000\n",
       "Kitchen Qual       0.000000\n",
       "Kitchen AbvGr      0.000000\n",
       "Bedroom AbvGr      0.000000\n",
       "Half Bath          0.000000\n",
       "Full Bath          0.000000\n",
       "Gr Liv Area        0.000000\n",
       "Low Qual Fin SF    0.000000\n",
       "2nd Flr SF         0.000000\n",
       "1st Flr SF         0.000000\n",
       "Central Air        0.000000\n",
       "Heating QC         0.000000\n",
       "Heating            0.000000\n",
       "Yr Sold            0.000000\n",
       "Id                 0.000000\n",
       "dtype: float64"
      ]
     },
     "execution_count": 12,
     "metadata": {},
     "output_type": "execute_result"
    }
   ],
   "source": [
    "#looking for the percentage of missing data\n",
    "data.isnull().mean().sort_values(ascending= False)\n"
   ]
  },
  {
   "cell_type": "markdown",
   "metadata": {},
   "source": [
    "There are many columns with very high missing data percentage"
   ]
  },
  {
   "cell_type": "markdown",
   "metadata": {},
   "source": [
    "To clean them up, \n",
    "- We will be replacing qualitative data types with None. where None indicates that that specific house doesn't have this feature. Datatypes such as: Pool QC, Alley, Misc Feature, Fence...\n",
    "\n",
    "- We will also replace quantitative data types with 0, indicating that there is nothing for this feature. such as: Garage Area, Cars, year built ..."
   ]
  },
  {
   "cell_type": "markdown",
   "metadata": {},
   "source": [
    "#### 1. Qualitative:"
   ]
  },
  {
   "cell_type": "markdown",
   "metadata": {},
   "source": [
    "- 'None' indicates that that specific house doesn't have this feature.\n",
    "\n",
    "\n",
    "Checking if any of these columns have a specified name that indicates missing data:\n"
   ]
  },
  {
   "cell_type": "code",
   "execution_count": 13,
   "metadata": {},
   "outputs": [
    {
     "data": {
      "text/plain": [
       "Gd    4\n",
       "Ex    4\n",
       "TA    3\n",
       "Fa    2\n",
       "Name: Pool QC, dtype: int64"
      ]
     },
     "execution_count": 13,
     "metadata": {},
     "output_type": "execute_result"
    }
   ],
   "source": [
    "data['Pool QC'].value_counts()"
   ]
  },
  {
   "cell_type": "code",
   "execution_count": 14,
   "metadata": {},
   "outputs": [
    {
     "data": {
      "text/plain": [
       "Shed    95\n",
       "Gar2     5\n",
       "Othr     4\n",
       "Elev     1\n",
       "TenC     1\n",
       "Name: Misc Feature, dtype: int64"
      ]
     },
     "execution_count": 14,
     "metadata": {},
     "output_type": "execute_result"
    }
   ],
   "source": [
    "data['Misc Feature'].value_counts()"
   ]
  },
  {
   "cell_type": "code",
   "execution_count": 15,
   "metadata": {},
   "outputs": [
    {
     "data": {
      "text/plain": [
       "Grvl    120\n",
       "Pave     78\n",
       "Name: Alley, dtype: int64"
      ]
     },
     "execution_count": 15,
     "metadata": {},
     "output_type": "execute_result"
    }
   ],
   "source": [
    "data['Alley'].value_counts()"
   ]
  },
  {
   "cell_type": "code",
   "execution_count": 16,
   "metadata": {},
   "outputs": [
    {
     "data": {
      "text/plain": [
       "MnPrv    330\n",
       "GdPrv    118\n",
       "GdWo     112\n",
       "MnWw      12\n",
       "Name: Fence, dtype: int64"
      ]
     },
     "execution_count": 16,
     "metadata": {},
     "output_type": "execute_result"
    }
   ],
   "source": [
    "data['Fence'].value_counts()"
   ]
  },
  {
   "cell_type": "code",
   "execution_count": 17,
   "metadata": {},
   "outputs": [
    {
     "data": {
      "text/plain": [
       "Gd    744\n",
       "TA    600\n",
       "Fa     75\n",
       "Po     46\n",
       "Ex     43\n",
       "Name: Fireplace Qu, dtype: int64"
      ]
     },
     "execution_count": 17,
     "metadata": {},
     "output_type": "execute_result"
    }
   ],
   "source": [
    "data['Fireplace Qu'].value_counts()"
   ]
  },
  {
   "cell_type": "code",
   "execution_count": 18,
   "metadata": {},
   "outputs": [
    {
     "data": {
      "text/plain": [
       "Unf    1231\n",
       "RFn     812\n",
       "Fin     728\n",
       "Name: Garage Finish, dtype: int64"
      ]
     },
     "execution_count": 18,
     "metadata": {},
     "output_type": "execute_result"
    }
   ],
   "source": [
    "data['Garage Finish'].value_counts()"
   ]
  },
  {
   "cell_type": "code",
   "execution_count": 19,
   "metadata": {},
   "outputs": [
    {
     "data": {
      "text/plain": [
       "TA    1868\n",
       "Fa      47\n",
       "Gd      12\n",
       "Po       8\n",
       "Ex       2\n",
       "Name: Garage Cond, dtype: int64"
      ]
     },
     "execution_count": 19,
     "metadata": {},
     "output_type": "execute_result"
    }
   ],
   "source": [
    "train['Garage Cond'].value_counts()"
   ]
  },
  {
   "cell_type": "code",
   "execution_count": 20,
   "metadata": {},
   "outputs": [
    {
     "data": {
      "text/plain": [
       "TA    2615\n",
       "Fa     124\n",
       "Gd      24\n",
       "Po       5\n",
       "Ex       3\n",
       "Name: Garage Qual, dtype: int64"
      ]
     },
     "execution_count": 20,
     "metadata": {},
     "output_type": "execute_result"
    }
   ],
   "source": [
    "data['Garage Qual'].value_counts()"
   ]
  },
  {
   "cell_type": "code",
   "execution_count": 21,
   "metadata": {},
   "outputs": [
    {
     "data": {
      "text/plain": [
       "Attchd     1731\n",
       "Detchd      782\n",
       "BuiltIn     186\n",
       "Basment      36\n",
       "2Types       23\n",
       "CarPort      15\n",
       "Name: Garage Type, dtype: int64"
      ]
     },
     "execution_count": 21,
     "metadata": {},
     "output_type": "execute_result"
    }
   ],
   "source": [
    "data['Garage Type'].value_counts()"
   ]
  },
  {
   "cell_type": "code",
   "execution_count": 22,
   "metadata": {},
   "outputs": [
    {
     "data": {
      "text/plain": [
       "No    1906\n",
       "Av     418\n",
       "Gd     284\n",
       "Mn     239\n",
       "Name: Bsmt Exposure, dtype: int64"
      ]
     },
     "execution_count": 22,
     "metadata": {},
     "output_type": "execute_result"
    }
   ],
   "source": [
    "#it has 'No'. it actaully means no exposure rather than no basement.\n",
    "data['Bsmt Exposure'].value_counts()"
   ]
  },
  {
   "cell_type": "code",
   "execution_count": 23,
   "metadata": {},
   "outputs": [
    {
     "data": {
      "text/plain": [
       "Unf    2499\n",
       "Rec     106\n",
       "LwQ      89\n",
       "BLQ      68\n",
       "ALQ      53\n",
       "GLQ      34\n",
       "Name: BsmtFin Type 2, dtype: int64"
      ]
     },
     "execution_count": 23,
     "metadata": {},
     "output_type": "execute_result"
    }
   ],
   "source": [
    "data['BsmtFin Type 2'].value_counts()"
   ]
  },
  {
   "cell_type": "code",
   "execution_count": 24,
   "metadata": {},
   "outputs": [
    {
     "data": {
      "text/plain": [
       "GLQ    859\n",
       "Unf    851\n",
       "ALQ    429\n",
       "Rec    288\n",
       "BLQ    269\n",
       "LwQ    154\n",
       "Name: BsmtFin Type 1, dtype: int64"
      ]
     },
     "execution_count": 24,
     "metadata": {},
     "output_type": "execute_result"
    }
   ],
   "source": [
    "data['BsmtFin Type 1'].value_counts()"
   ]
  },
  {
   "cell_type": "code",
   "execution_count": 25,
   "metadata": {},
   "outputs": [
    {
     "data": {
      "text/plain": [
       "TA    2616\n",
       "Gd     122\n",
       "Fa     104\n",
       "Po       5\n",
       "Ex       3\n",
       "Name: Bsmt Cond, dtype: int64"
      ]
     },
     "execution_count": 25,
     "metadata": {},
     "output_type": "execute_result"
    }
   ],
   "source": [
    "data['Bsmt Cond'].value_counts()"
   ]
  },
  {
   "cell_type": "code",
   "execution_count": 26,
   "metadata": {},
   "outputs": [
    {
     "data": {
      "text/plain": [
       "TA    1283\n",
       "Gd    1219\n",
       "Ex     258\n",
       "Fa      88\n",
       "Po       2\n",
       "Name: Bsmt Qual, dtype: int64"
      ]
     },
     "execution_count": 26,
     "metadata": {},
     "output_type": "execute_result"
    }
   ],
   "source": [
    "data['Bsmt Qual'].value_counts()"
   ]
  },
  {
   "cell_type": "code",
   "execution_count": 27,
   "metadata": {},
   "outputs": [
    {
     "data": {
      "text/plain": [
       "None       1752\n",
       "BrkFace     880\n",
       "Stone       249\n",
       "BrkCmn       25\n",
       "CBlock        1\n",
       "Name: Mas Vnr Type, dtype: int64"
      ]
     },
     "execution_count": 27,
     "metadata": {},
     "output_type": "execute_result"
    }
   ],
   "source": [
    "# it has a None already\n",
    "data['Mas Vnr Type'].value_counts()"
   ]
  },
  {
   "cell_type": "code",
   "execution_count": 28,
   "metadata": {},
   "outputs": [],
   "source": [
    "#Loops over each of the specific qualitative-data-type columns and\n",
    "# replaces their missing values with None.\n",
    "for column in ('Pool QC', 'Misc Feature', 'Alley', \n",
    "               'Fence', 'Fireplace Qu', 'Garage Finish',\n",
    "               'Garage Cond','Garage Qual','Garage Type',\n",
    "               'Bsmt Exposure','BsmtFin Type 2','BsmtFin Type 1',\n",
    "               'Bsmt Cond','Bsmt Qual','Mas Vnr Type',\n",
    "              ):\n",
    "    data[column].fillna('None', inplace =True)\n"
   ]
  },
  {
   "cell_type": "code",
   "execution_count": null,
   "metadata": {},
   "outputs": [],
   "source": []
  },
  {
   "cell_type": "code",
   "execution_count": 29,
   "metadata": {},
   "outputs": [
    {
     "data": {
      "text/plain": [
       "Lot Frontage      0.167235\n",
       "Garage Yr Blt     0.054266\n",
       "Mas Vnr Area      0.007850\n",
       "Bsmt Half Bath    0.000683\n",
       "Bsmt Full Bath    0.000683\n",
       "Electrical        0.000341\n",
       "BsmtFin SF 1      0.000341\n",
       "Garage Cars       0.000341\n",
       "Garage Area       0.000341\n",
       "Total Bsmt SF     0.000341\n",
       "Bsmt Unf SF       0.000341\n",
       "BsmtFin SF 2      0.000341\n",
       "Exter Cond        0.000000\n",
       "Exter Qual        0.000000\n",
       "Year Remod/Add    0.000000\n",
       "Mas Vnr Type      0.000000\n",
       "Foundation        0.000000\n",
       "Bsmt Qual         0.000000\n",
       "Bsmt Cond         0.000000\n",
       "Bsmt Exposure     0.000000\n",
       "dtype: float64"
      ]
     },
     "execution_count": 29,
     "metadata": {},
     "output_type": "execute_result"
    }
   ],
   "source": [
    "#looking for the percentage of missing data now \n",
    "data.isnull().mean().sort_values(ascending= False).head(20)"
   ]
  },
  {
   "cell_type": "markdown",
   "metadata": {},
   "source": [
    "Better!!"
   ]
  },
  {
   "cell_type": "markdown",
   "metadata": {},
   "source": [
    "#### 2. Quantitative:"
   ]
  },
  {
   "cell_type": "code",
   "execution_count": 30,
   "metadata": {},
   "outputs": [],
   "source": [
    "#replaced the specified quantitative-data-types with 0 for missing value.\n",
    "for column in ('Garage Yr Blt', 'Garage Area', 'Garage Cars', \n",
    "     'BsmtFin SF 1', 'BsmtFin SF 2', 'Bsmt Full Bath', \n",
    "     'Bsmt Half Bath', 'Bsmt Unf SF','Total Bsmt SF',\n",
    "     \"Mas Vnr Area\" ):\n",
    "     data[column].fillna(0, inplace =True)\n",
    "\n"
   ]
  },
  {
   "cell_type": "code",
   "execution_count": 31,
   "metadata": {},
   "outputs": [
    {
     "data": {
      "text/plain": [
       "count    2440.000000\n",
       "mean       69.224590\n",
       "std        23.365335\n",
       "min        21.000000\n",
       "25%        58.000000\n",
       "50%        68.000000\n",
       "75%        80.000000\n",
       "max       313.000000\n",
       "Name: Lot Frontage, dtype: float64"
      ]
     },
     "execution_count": 31,
     "metadata": {},
     "output_type": "execute_result"
    }
   ],
   "source": [
    "# becuase every house should have a street connected to the property,\n",
    "# missing data here means that there was proabably a proplem while entering\n",
    "# the data.\n",
    "data['Lot Frontage'].describe()"
   ]
  },
  {
   "cell_type": "code",
   "execution_count": 32,
   "metadata": {},
   "outputs": [],
   "source": [
    "#for this column, i will fill the nan values with the average of the column.\n",
    "data['Lot Frontage'].fillna(train['Lot Frontage'].mean(), inplace = True)\n"
   ]
  },
  {
   "cell_type": "code",
   "execution_count": 33,
   "metadata": {},
   "outputs": [
    {
     "data": {
      "text/plain": [
       "Electrical        0.000341\n",
       "Sale Type         0.000000\n",
       "Exter Qual        0.000000\n",
       "Year Remod/Add    0.000000\n",
       "Roof Style        0.000000\n",
       "dtype: float64"
      ]
     },
     "execution_count": 33,
     "metadata": {},
     "output_type": "execute_result"
    }
   ],
   "source": [
    "data.isnull().mean().sort_values(ascending= False).head()"
   ]
  },
  {
   "cell_type": "code",
   "execution_count": 34,
   "metadata": {
    "scrolled": true
   },
   "outputs": [
    {
     "data": {
      "text/plain": [
       "SBrkr    2682\n",
       "FuseA     188\n",
       "FuseF      50\n",
       "FuseP       8\n",
       "Mix         1\n",
       "Name: Electrical, dtype: int64"
      ]
     },
     "execution_count": 34,
     "metadata": {},
     "output_type": "execute_result"
    }
   ],
   "source": [
    "#checking for unique values in the 'Electrical' column.\n",
    "data['Electrical'].value_counts()"
   ]
  },
  {
   "cell_type": "code",
   "execution_count": 35,
   "metadata": {},
   "outputs": [
    {
     "data": {
      "text/plain": [
       "1"
      ]
     },
     "execution_count": 35,
     "metadata": {},
     "output_type": "execute_result"
    }
   ],
   "source": [
    "#checking for missing values\n",
    "data['Electrical'].isnull().sum()"
   ]
  },
  {
   "cell_type": "code",
   "execution_count": 36,
   "metadata": {},
   "outputs": [
    {
     "data": {
      "text/html": [
       "<div>\n",
       "<style scoped>\n",
       "    .dataframe tbody tr th:only-of-type {\n",
       "        vertical-align: middle;\n",
       "    }\n",
       "\n",
       "    .dataframe tbody tr th {\n",
       "        vertical-align: top;\n",
       "    }\n",
       "\n",
       "    .dataframe thead th {\n",
       "        text-align: right;\n",
       "    }\n",
       "</style>\n",
       "<table border=\"1\" class=\"dataframe\">\n",
       "  <thead>\n",
       "    <tr style=\"text-align: right;\">\n",
       "      <th></th>\n",
       "      <th>Id</th>\n",
       "      <th>PID</th>\n",
       "      <th>MS SubClass</th>\n",
       "      <th>MS Zoning</th>\n",
       "      <th>Lot Frontage</th>\n",
       "      <th>Lot Area</th>\n",
       "      <th>Street</th>\n",
       "      <th>Alley</th>\n",
       "      <th>Lot Shape</th>\n",
       "      <th>Land Contour</th>\n",
       "      <th>...</th>\n",
       "      <th>3Ssn Porch</th>\n",
       "      <th>Screen Porch</th>\n",
       "      <th>Pool Area</th>\n",
       "      <th>Pool QC</th>\n",
       "      <th>Fence</th>\n",
       "      <th>Misc Feature</th>\n",
       "      <th>Misc Val</th>\n",
       "      <th>Mo Sold</th>\n",
       "      <th>Yr Sold</th>\n",
       "      <th>Sale Type</th>\n",
       "    </tr>\n",
       "  </thead>\n",
       "  <tbody>\n",
       "    <tr>\n",
       "      <td>2686</td>\n",
       "      <td>1578</td>\n",
       "      <td>916386080</td>\n",
       "      <td>80</td>\n",
       "      <td>RL</td>\n",
       "      <td>73.0</td>\n",
       "      <td>9735</td>\n",
       "      <td>Pave</td>\n",
       "      <td>None</td>\n",
       "      <td>Reg</td>\n",
       "      <td>Lvl</td>\n",
       "      <td>...</td>\n",
       "      <td>0</td>\n",
       "      <td>0</td>\n",
       "      <td>0</td>\n",
       "      <td>None</td>\n",
       "      <td>None</td>\n",
       "      <td>None</td>\n",
       "      <td>0</td>\n",
       "      <td>5</td>\n",
       "      <td>2008</td>\n",
       "      <td>WD</td>\n",
       "    </tr>\n",
       "  </tbody>\n",
       "</table>\n",
       "<p>1 rows × 80 columns</p>\n",
       "</div>"
      ],
      "text/plain": [
       "        Id        PID  MS SubClass MS Zoning  Lot Frontage  Lot Area Street  \\\n",
       "2686  1578  916386080           80        RL          73.0      9735   Pave   \n",
       "\n",
       "     Alley Lot Shape Land Contour  ... 3Ssn Porch Screen Porch Pool Area  \\\n",
       "2686  None       Reg          Lvl  ...          0            0         0   \n",
       "\n",
       "     Pool QC Fence Misc Feature Misc Val Mo Sold  Yr Sold  Sale Type  \n",
       "2686    None  None         None        0       5     2008        WD   \n",
       "\n",
       "[1 rows x 80 columns]"
      ]
     },
     "execution_count": 36,
     "metadata": {},
     "output_type": "execute_result"
    }
   ],
   "source": [
    "#becasue there is only one null row, i am going to fill it with the most common value 'SBrkr'\n",
    "data[data['Electrical'].isnull()]"
   ]
  },
  {
   "cell_type": "code",
   "execution_count": 37,
   "metadata": {},
   "outputs": [],
   "source": [
    "#filling it\n",
    "data['Electrical'].fillna('SBrkr', inplace=True)"
   ]
  },
  {
   "cell_type": "code",
   "execution_count": 38,
   "metadata": {},
   "outputs": [
    {
     "data": {
      "text/plain": [
       "0"
      ]
     },
     "execution_count": 38,
     "metadata": {},
     "output_type": "execute_result"
    }
   ],
   "source": [
    "data['Electrical'].isnull().sum()"
   ]
  },
  {
   "cell_type": "code",
   "execution_count": 39,
   "metadata": {},
   "outputs": [
    {
     "data": {
      "text/plain": [
       "0"
      ]
     },
     "execution_count": 39,
     "metadata": {},
     "output_type": "execute_result"
    }
   ],
   "source": [
    "data.isnull().sum().sum()"
   ]
  },
  {
   "cell_type": "markdown",
   "metadata": {},
   "source": [
    "No more missing values!"
   ]
  },
  {
   "cell_type": "markdown",
   "metadata": {},
   "source": [
    "### Saving the cleaned file"
   ]
  },
  {
   "cell_type": "code",
   "execution_count": 296,
   "metadata": {},
   "outputs": [],
   "source": [
    "data.to_csv('../datasets/test_train_cleaned.csv', index=False)"
   ]
  }
 ],
 "metadata": {
  "kernelspec": {
   "display_name": "Python 3",
   "language": "python",
   "name": "python3"
  },
  "language_info": {
   "codemirror_mode": {
    "name": "ipython",
    "version": 3
   },
   "file_extension": ".py",
   "mimetype": "text/x-python",
   "name": "python",
   "nbconvert_exporter": "python",
   "pygments_lexer": "ipython3",
   "version": "3.7.4"
  }
 },
 "nbformat": 4,
 "nbformat_minor": 2
}
